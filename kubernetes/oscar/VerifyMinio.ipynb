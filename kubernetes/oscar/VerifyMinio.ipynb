{
 "cells": [
  {
   "cell_type": "markdown",
   "id": "75f97fca-2676-4b5c-9990-c963a0dc499c",
   "metadata": {
    "jp-MarkdownHeadingCollapsed": true,
    "tags": []
   },
   "source": [
    "## Install Stuff"
   ]
  },
  {
   "cell_type": "code",
   "execution_count": 1,
   "id": "2620415b-75f0-48b5-aefa-045ddbc85f8d",
   "metadata": {},
   "outputs": [
    {
     "name": "stdout",
     "output_type": "stream",
     "text": [
      "\u001b[33mWARNING: Retrying (Retry(total=4, connect=None, read=None, redirect=None, status=None)) after connection broken by 'NewConnectionError('<pip._vendor.urllib3.connection.HTTPSConnection object at 0x7f36a474f550>: Failed to establish a new connection: [Errno -3] Temporary failure in name resolution')': /simple/minio/\u001b[0m\u001b[33m\n",
      "\u001b[0m\u001b[33mWARNING: Retrying (Retry(total=3, connect=None, read=None, redirect=None, status=None)) after connection broken by 'NewConnectionError('<pip._vendor.urllib3.connection.HTTPSConnection object at 0x7f36a474f850>: Failed to establish a new connection: [Errno -3] Temporary failure in name resolution')': /simple/minio/\u001b[0m\u001b[33m\n",
      "\u001b[0m\u001b[33mWARNING: Retrying (Retry(total=2, connect=None, read=None, redirect=None, status=None)) after connection broken by 'NewConnectionError('<pip._vendor.urllib3.connection.HTTPSConnection object at 0x7f36a474fac0>: Failed to establish a new connection: [Errno -3] Temporary failure in name resolution')': /simple/minio/\u001b[0m\u001b[33m\n",
      "\u001b[0mCollecting minio\n",
      "\u001b[33m  WARNING: Retrying (Retry(total=4, connect=None, read=None, redirect=None, status=None)) after connection broken by 'NewConnectionError('<pip._vendor.urllib3.connection.HTTPSConnection object at 0x7f36a46a35b0>: Failed to establish a new connection: [Errno -3] Temporary failure in name resolution')': /packages/8a/78/4b0fb944cb3f71e6637d8e716593683ea1b41ca5c75ed6a98699d7e31381/minio-7.2.3-py3-none-any.whl\u001b[0m\u001b[33m\n",
      "\u001b[0m\u001b[33m  WARNING: Retrying (Retry(total=3, connect=None, read=None, redirect=None, status=None)) after connection broken by 'NewConnectionError('<pip._vendor.urllib3.connection.HTTPSConnection object at 0x7f36a46b5280>: Failed to establish a new connection: [Errno -3] Temporary failure in name resolution')': /packages/8a/78/4b0fb944cb3f71e6637d8e716593683ea1b41ca5c75ed6a98699d7e31381/minio-7.2.3-py3-none-any.whl\u001b[0m\u001b[33m\n",
      "\u001b[0m\u001b[33m  WARNING: Retrying (Retry(total=2, connect=None, read=None, redirect=None, status=None)) after connection broken by 'NewConnectionError('<pip._vendor.urllib3.connection.HTTPSConnection object at 0x7f36a46b5460>: Failed to establish a new connection: [Errno -3] Temporary failure in name resolution')': /packages/8a/78/4b0fb944cb3f71e6637d8e716593683ea1b41ca5c75ed6a98699d7e31381/minio-7.2.3-py3-none-any.whl\u001b[0m\u001b[33m\n",
      "\u001b[0m\u001b[33m  WARNING: Retrying (Retry(total=1, connect=None, read=None, redirect=None, status=None)) after connection broken by 'NewConnectionError('<pip._vendor.urllib3.connection.HTTPSConnection object at 0x7f36a46b5640>: Failed to establish a new connection: [Errno -3] Temporary failure in name resolution')': /packages/8a/78/4b0fb944cb3f71e6637d8e716593683ea1b41ca5c75ed6a98699d7e31381/minio-7.2.3-py3-none-any.whl\u001b[0m\u001b[33m\n",
      "\u001b[0m  Downloading minio-7.2.3-py3-none-any.whl (92 kB)\n",
      "\u001b[2K     \u001b[90m━━━━━━━━━━━━━━━━━━━━━━━━━━━━━━━━━━━━━━━━\u001b[0m \u001b[32m92.5/92.5 kB\u001b[0m \u001b[31m3.8 MB/s\u001b[0m eta \u001b[36m0:00:00\u001b[0m\n",
      "\u001b[?25hRequirement already satisfied: urllib3 in /opt/conda/lib/python3.8/site-packages (from minio) (1.26.11)\n",
      "Collecting pycryptodome\n",
      "  Downloading pycryptodome-3.20.0-cp35-abi3-manylinux_2_17_x86_64.manylinux2014_x86_64.whl (2.1 MB)\n",
      "\u001b[2K     \u001b[90m━━━━━━━━━━━━━━━━━━━━━━━━━━━━━━━━━━━━━━━━\u001b[0m \u001b[32m2.1/2.1 MB\u001b[0m \u001b[31m8.4 MB/s\u001b[0m eta \u001b[36m0:00:00\u001b[0m00:01\u001b[0m00:01\u001b[0m\n",
      "\u001b[?25hRequirement already satisfied: argon2-cffi in /opt/conda/lib/python3.8/site-packages (from minio) (21.3.0)\n",
      "Requirement already satisfied: certifi in /opt/conda/lib/python3.8/site-packages (from minio) (2022.9.24)\n",
      "Requirement already satisfied: typing-extensions in /opt/conda/lib/python3.8/site-packages (from minio) (3.7.4.3)\n",
      "Requirement already satisfied: argon2-cffi-bindings in /opt/conda/lib/python3.8/site-packages (from argon2-cffi->minio) (21.2.0)\n",
      "Requirement already satisfied: cffi>=1.0.1 in /opt/conda/lib/python3.8/site-packages (from argon2-cffi-bindings->argon2-cffi->minio) (1.15.1)\n",
      "Requirement already satisfied: pycparser in /opt/conda/lib/python3.8/site-packages (from cffi>=1.0.1->argon2-cffi-bindings->argon2-cffi->minio) (2.21)\n",
      "Installing collected packages: pycryptodome, minio\n",
      "Successfully installed minio-7.2.3 pycryptodome-3.20.0\n"
     ]
    }
   ],
   "source": [
    "!pip install minio"
   ]
  },
  {
   "cell_type": "markdown",
   "id": "e7d17432-9ba8-4d8d-a964-77f240887280",
   "metadata": {},
   "source": [
    "## Example"
   ]
  },
  {
   "cell_type": "markdown",
   "id": "7d4ff89c-897a-4b8f-a616-eaadc01b5198",
   "metadata": {},
   "source": [
    "[Reference](https://min.io/docs/minio/linux/developers/python/API.html)"
   ]
  },
  {
   "cell_type": "code",
   "execution_count": 9,
   "id": "1d704d9c-ca7c-43c4-b4fd-a50f62cae514",
   "metadata": {},
   "outputs": [],
   "source": [
    "from minio import Minio\n",
    "client = Minio(\"minio-service.tools\",\n",
    "    access_key=\"minio\",\n",
    "    secret_key=\"minio123\",\n",
    "    cert_check=False,\n",
    "    secure=False,\n",
    ")"
   ]
  },
  {
   "cell_type": "code",
   "execution_count": 10,
   "id": "8bc22e66-6a3f-4a90-824f-be83317dfb47",
   "metadata": {},
   "outputs": [
    {
     "name": "stdout",
     "output_type": "stream",
     "text": [
      "Bucket test-bucket already exists\n",
      "./Minio.ipynb successfully uploaded as object test.txt to bucket test-bucket\n"
     ]
    }
   ],
   "source": [
    "# The file to upload, change this path if needed\n",
    "source_file = \"./Minio.ipynb\"\n",
    "# The destination bucket and filename on the MinIO server\n",
    "bucket_name = \"test-bucket\"\n",
    "destination_file = \"test.txt\"\n",
    "\n",
    "# Make the bucket if it doesn't exist.\n",
    "found = client.bucket_exists(bucket_name)\n",
    "if not found:\n",
    "    client.make_bucket(bucket_name)\n",
    "    print(\"Created bucket\", bucket_name)\n",
    "else:\n",
    "    print(\"Bucket\", bucket_name, \"already exists\")\n",
    "\n",
    "# Upload the file, renaming it in the process\n",
    "client.fput_object(\n",
    "    bucket_name, destination_file, source_file,\n",
    ")\n",
    "print(\n",
    "    source_file, \"successfully uploaded as object\",\n",
    "    destination_file, \"to bucket\", bucket_name,\n",
    ")"
   ]
  },
  {
   "cell_type": "code",
   "execution_count": null,
   "id": "dd1ea55a-aa24-4554-a296-05cbc032136e",
   "metadata": {},
   "outputs": [],
   "source": []
  }
 ],
 "metadata": {
  "kernelspec": {
   "display_name": "Python 3 (ipykernel)",
   "language": "python",
   "name": "python3"
  },
  "language_info": {
   "codemirror_mode": {
    "name": "ipython",
    "version": 3
   },
   "file_extension": ".py",
   "mimetype": "text/x-python",
   "name": "python",
   "nbconvert_exporter": "python",
   "pygments_lexer": "ipython3",
   "version": "3.8.13"
  }
 },
 "nbformat": 4,
 "nbformat_minor": 5
}
